{
 "cells": [
  {
   "cell_type": "markdown",
   "id": "b1cf4038-0aa5-49cd-be0c-9732137e2971",
   "metadata": {},
   "source": [
    "# Atividade Enzimática"
   ]
  },
  {
   "cell_type": "code",
   "execution_count": null,
   "id": "58c8c7b7-e27d-4ba7-9389-2d3016b94529",
   "metadata": {},
   "outputs": [],
   "source": [
    "import pandas as pd\n",
    "import dataframe_image as dfi\n",
    "import numpy as np\n",
    "from sklearn.linear_model import LinearRegression\n",
    "import matplotlib.pyplot as plt\n",
    "from lmfit import Model"
   ]
  },
  {
   "cell_type": "code",
   "execution_count": null,
   "id": "7d4f3b58-db46-4553-a7f5-802587c9c705",
   "metadata": {
    "tags": []
   },
   "outputs": [],
   "source": [
    "# importanto o dataframe\n",
    "\n",
    "# Código para ler o arquivo em xls e retorná-lo em dataframe\n",
    "df_AMP = pd.read_excel(\"1. Dados-curva-padrao-AMP (1).xlsx\")\n",
    "\n",
    "df_Km_Ala = pd.read_excel(\"2. Dados-curva-Km-Ala (1).xlsx\")\n",
    "\n",
    "df_ATP = pd.read_excel(\"3. Dados-cinética-ATP (1).xlsx\")"
   ]
  },
  {
   "cell_type": "code",
   "execution_count": null,
   "id": "99ff92fa-3fa8-45f7-9ea1-b4c73614e663",
   "metadata": {},
   "outputs": [],
   "source": [
    "df_AMP.head()"
   ]
  },
  {
   "cell_type": "code",
   "execution_count": null,
   "id": "4be639bf-bf27-42a9-b5c3-6a904849829e",
   "metadata": {},
   "outputs": [],
   "source": [
    "df_Km_Ala.head()"
   ]
  },
  {
   "cell_type": "code",
   "execution_count": null,
   "id": "9a9ac13c-ceaf-4ac4-8cc3-73b59c6cc316",
   "metadata": {},
   "outputs": [],
   "source": [
    "df_ATP.head()"
   ]
  },
  {
   "cell_type": "markdown",
   "id": "dead12cd-8638-4856-afa0-f9dee53fdd1b",
   "metadata": {
    "tags": []
   },
   "source": [
    "## Atividade 1"
   ]
  },
  {
   "cell_type": "code",
   "execution_count": null,
   "id": "b22d2cb4-0e33-45aa-ae4b-fa547f09c5e7",
   "metadata": {},
   "outputs": [],
   "source": [
    "df_AMP[\"Média ABS\"] = (df_AMP[\"Replica 1\"] + df_AMP[\"Replica 2\"] + df_AMP[\"Replica 3\"] + df_AMP[\"Replica 4\"])/4\n",
    "\n",
    "branco = df_AMP.loc[7][\"Média ABS\"]\n",
    "\n",
    "df_AMP[\"Média ABS sem branco\"] = df_AMP[\"Média ABS\"] - branco"
   ]
  },
  {
   "cell_type": "code",
   "execution_count": null,
   "id": "db53bf43-cf85-4e79-98e8-5194750b0bd2",
   "metadata": {},
   "outputs": [],
   "source": [
    "df_AMP.head()"
   ]
  },
  {
   "cell_type": "code",
   "execution_count": null,
   "id": "48a40ab0-6c51-41a4-9274-43a9e87a27be",
   "metadata": {},
   "outputs": [],
   "source": [
    "#df_styled = df_AMP.style.background_gradient()\n",
    "#dfi.export(df_styled, \"df_AMP.png\")"
   ]
  },
  {
   "cell_type": "code",
   "execution_count": null,
   "id": "d168ea55-ae33-4362-a791-640a8435124f",
   "metadata": {},
   "outputs": [],
   "source": [
    "x = np.array(list(df_AMP[\"Concentração AMP (µM)\"])).reshape((-1, 1))\n",
    "y = np.array(list(df_AMP[\"Média ABS sem branco\"]))\n",
    "\n",
    "model = LinearRegression()\n",
    "\n",
    "model.fit(x, y)\n",
    "\n",
    "model = LinearRegression().fit(x, y)\n",
    "\n",
    "r_sq = model.score(x, y)\n",
    "print(f\"coefficient of determination: {r_sq}\")\n",
    "\n",
    "print(f\"intercept: {model.intercept_}\")\n",
    "\n",
    "print(f\"slope: {model.coef_}\")\n",
    "\n",
    "a = model.coef_[0]\n",
    "\n",
    "b = model.intercept_"
   ]
  },
  {
   "cell_type": "code",
   "execution_count": null,
   "id": "48038a88-4de0-4d91-b1d7-7bbb33c1be63",
   "metadata": {},
   "outputs": [],
   "source": [
    "def ABS(AMP):\n",
    "    return b + a*AMP\n",
    "\n",
    "AMP = np.linspace(0, 25, 100)\n",
    "\n",
    "fig1 = plt.figure()\n",
    "ax1 = fig1.add_subplot(111)\n",
    "plt.plot(AMP, ABS(AMP), color='black')\n",
    "df_AMP.plot('Concentração AMP (µM)','Média ABS sem branco',legend=True, ax=ax1, kind = 'scatter', linewidth = 2.5, color = 'blue')\n",
    "#plt.title('Curva de calibração do AMP')\n",
    "plt.xlabel('[AMP] (µM)')\n",
    "plt.ylabel('RFU')\n",
    "plt.savefig('reg_AMP.png', dpi=100, format='png', facecolor='white')\n",
    "plt.show()"
   ]
  },
  {
   "cell_type": "code",
   "execution_count": null,
   "id": "3a542d82-8435-4115-9196-2dd87bc4e446",
   "metadata": {},
   "outputs": [],
   "source": [
    "a"
   ]
  },
  {
   "cell_type": "markdown",
   "id": "9757fa62-2468-4509-bfe7-685ec86eaff3",
   "metadata": {},
   "source": [
    "## Atividade 2"
   ]
  },
  {
   "cell_type": "code",
   "execution_count": null,
   "id": "76d60b18-0111-4f9e-a4b7-3235debc5c1e",
   "metadata": {},
   "outputs": [],
   "source": [
    "df_Km_Ala"
   ]
  },
  {
   "cell_type": "code",
   "execution_count": null,
   "id": "35608a47-6c1b-42eb-90ab-006eda0973a2",
   "metadata": {},
   "outputs": [],
   "source": [
    "#df_styled = df_Km_Ala.style.background_gradient()\n",
    "#dfi.export(df_styled, \"df_Km_Ala_sem_mudancas.png\")"
   ]
  },
  {
   "cell_type": "code",
   "execution_count": null,
   "id": "5ac973a1-2c5a-4b97-aa33-201bf1b81ce5",
   "metadata": {},
   "outputs": [],
   "source": [
    "df_Km_Ala[\"Média v\"] = (df_Km_Ala[\"v1\"] + df_Km_Ala[\"v2\"] + df_Km_Ala[\"v3\"] + df_Km_Ala[\"v4\"])/4\n",
    "df_Km_Ala[\"Média v\"] = df_Km_Ala[\"Média v\"] - df_Km_Ala.loc[7][\"Média v\"]\n",
    "df_Km_Ala = df_Km_Ala.drop(7)\n",
    "df_Km_Ala[\"inverso Média v\"] = 1/df_Km_Ala[\"Média v\"]\n",
    "df_Km_Ala[\"inverso [L-Ala] (mM)\"] = 1/df_Km_Ala[\"[L-Ala] (mM)\"]"
   ]
  },
  {
   "cell_type": "code",
   "execution_count": null,
   "id": "4983ca8a-eef1-4cfe-b33b-d4b02ed05f4b",
   "metadata": {},
   "outputs": [],
   "source": [
    "df_Km_Ala"
   ]
  },
  {
   "cell_type": "code",
   "execution_count": null,
   "id": "f0dfd8de-c721-45de-ab37-fe3e77a6d87f",
   "metadata": {},
   "outputs": [],
   "source": [
    "x = np.array(list(df_Km_Ala[\"inverso [L-Ala] (mM)\"])).reshape((-1, 1))\n",
    "y = np.array(list(df_Km_Ala[\"inverso Média v\"]))\n",
    "\n",
    "model = LinearRegression()\n",
    "\n",
    "model.fit(x, y)\n",
    "\n",
    "model = LinearRegression().fit(x, y)\n",
    "\n",
    "r_sq = model.score(x, y)\n",
    "print(f\"coefficient of determination: {r_sq}\")\n",
    "\n",
    "print(f\"intercept: {model.intercept_}\")\n",
    "\n",
    "print(f\"slope: {model.coef_}\")\n",
    "\n",
    "a = model.coef_[0]\n",
    "\n",
    "b = model.intercept_\n",
    "\n",
    "V_max = 1/b\n",
    "\n",
    "K = V_max*a"
   ]
  },
  {
   "cell_type": "code",
   "execution_count": null,
   "id": "2f80aa52-f452-496f-9da3-d591f91c7b42",
   "metadata": {},
   "outputs": [],
   "source": [
    "def inv_v(inv_Ala):\n",
    "    return b + a*inv_Ala\n",
    "\n",
    "inv_Ala = np.linspace(0, 0.128, 100)\n",
    "\n",
    "fig1 = plt.figure()\n",
    "ax1 = fig1.add_subplot(111)\n",
    "plt.plot(inv_Ala, inv_v(inv_Ala), color='black')\n",
    "df_Km_Ala.plot('inverso [L-Ala] (mM)','inverso Média v',legend=True, ax=ax1, kind = 'scatter', linewidth = 2.5, color = 'blue')\n",
    "plt.xlabel('1/[L-Ala] (mM)')\n",
    "plt.ylabel('1/v')\n",
    "plt.savefig('reg_aanc.png', dpi=100, format='png', facecolor='white')\n",
    "plt.show()"
   ]
  },
  {
   "cell_type": "code",
   "execution_count": null,
   "id": "0023f9bc-352b-4a14-8d02-6d65cf8a37bc",
   "metadata": {},
   "outputs": [],
   "source": [
    "print(V_max, K)"
   ]
  },
  {
   "cell_type": "code",
   "execution_count": null,
   "id": "8578f004-7eb2-4b80-acaf-81ff872d533a",
   "metadata": {},
   "outputs": [],
   "source": [
    "def v(Ala):\n",
    "    return V_max*Ala/(K + Ala)\n",
    "\n",
    "Ala = np.linspace(0, 500, 500)\n",
    "\n",
    "fig1 = plt.figure()\n",
    "ax1 = fig1.add_subplot(111)\n",
    "plt.plot(Ala, v(Ala), color='black')\n",
    "df_Km_Ala.plot('[L-Ala] (mM)','Média v',legend=True, ax=ax1, kind = 'scatter', linewidth = 2.5, color = 'blue')\n",
    "plt.xlabel('[L-Ala] (mM)')\n",
    "plt.ylabel('v')\n",
    "plt.savefig('mod_aanc_dados.png', dpi=100, format='png', facecolor='white')\n",
    "plt.show()"
   ]
  },
  {
   "cell_type": "code",
   "execution_count": null,
   "id": "94d6b1e9-ca1e-497b-9f49-811f1e428f28",
   "metadata": {},
   "outputs": [],
   "source": [
    "def v_2(Ala, V_max_2, K_m_2):\n",
    "    return V_max_2*(Ala)/(K_m_2 + Ala)"
   ]
  },
  {
   "cell_type": "code",
   "execution_count": null,
   "id": "91ff795f-51c8-4eee-a580-bc0d1fc40e1a",
   "metadata": {},
   "outputs": [],
   "source": [
    "modelo_Ala = Model(v_2)\n",
    "\n",
    "print(f'Variável independente: {modelo_ATP.independent_vars}')\n",
    "print(f'Parâmetros do modelo: {modelo_ATP.param_names}')"
   ]
  },
  {
   "cell_type": "code",
   "execution_count": null,
   "id": "30e8773f-5f60-48a8-8af0-e511741963c9",
   "metadata": {},
   "outputs": [],
   "source": [
    "params = modelo_Ala.make_params(V_max_2=7000, K_m_2 = 125)"
   ]
  },
  {
   "cell_type": "code",
   "execution_count": null,
   "id": "91964f66-19a5-4bf9-98b5-dcb21da4fdc3",
   "metadata": {},
   "outputs": [],
   "source": [
    "resultado_fit = modelo_Ala.fit(df_Km_Ala[\"Média v\"], params, Ala=df_Km_Ala[\"[L-Ala] (mM)\"])\n",
    "print(resultado_fit.fit_report())"
   ]
  },
  {
   "cell_type": "code",
   "execution_count": null,
   "id": "a0ba493f-1768-4c59-8155-f08b4a0070b8",
   "metadata": {},
   "outputs": [],
   "source": [
    "plt.plot(df_Km_Ala[\"[L-Ala] (mM)\"], df_Km_Ala[\"Média v\"], 'o')\n",
    "plt.plot(df_Km_Ala[\"[L-Ala] (mM)\"], resultado_fit.init_fit, '--', label='Palpite inicial')\n",
    "plt.plot(df_Km_Ala[\"[L-Ala] (mM)\"], resultado_fit.best_fit, '-', label='Melhor ajuste encontrado')\n",
    "plt.legend()\n",
    "#plt.ylim(0, 1000)\n",
    "#plt.yscale('log')\n",
    "plt.show()"
   ]
  },
  {
   "cell_type": "code",
   "execution_count": null,
   "id": "cae5353b-ae89-4882-98db-3db1d1f3da3b",
   "metadata": {},
   "outputs": [],
   "source": [
    "resultado_fit.plot()\n",
    "#plt.savefig('aanc_lmfit.png', dpi=100, format='png', facecolor='white')\n",
    "plt.show()"
   ]
  },
  {
   "cell_type": "code",
   "execution_count": null,
   "id": "23db5fef-de22-4636-ad99-bfde51a0d53f",
   "metadata": {},
   "outputs": [],
   "source": [
    "V_max = 10412.66\n",
    "K = 253.87\n",
    "\n",
    "def v(Ala):\n",
    "    return V_max*Ala/(K + Ala)\n",
    "\n",
    "Ala = np.linspace(0, 500, 500)\n",
    "\n",
    "fig1 = plt.figure()\n",
    "ax1 = fig1.add_subplot(111)\n",
    "plt.plot(Ala, v(Ala), color='black')\n",
    "df_Km_Ala.plot('[L-Ala] (mM)','Média v',legend=True, ax=ax1, kind = 'scatter', linewidth = 2.5, color = 'blue')\n",
    "plt.xlabel('[L-Ala] (mM)')\n",
    "plt.ylabel('v')\n",
    "plt.savefig('aanc_lmfit.png', dpi=100, format='png', facecolor='white')\n",
    "plt.show()"
   ]
  },
  {
   "cell_type": "markdown",
   "id": "bf7d5fa5-aed3-4f39-b330-08401c6ffb0f",
   "metadata": {},
   "source": [
    "## Atividade 3"
   ]
  },
  {
   "cell_type": "code",
   "execution_count": null,
   "id": "afb96320-6d8d-4e70-8d34-3aa6d92f32c1",
   "metadata": {},
   "outputs": [],
   "source": [
    "df_ATP[\"Média v\"] = (df_ATP[\"v1\"] + df_ATP[\"v2\"] + df_ATP[\"v3\"] + df_ATP[\"v4\"])/4\n",
    "df_ATP[\"Média v\"] = df_ATP[\"Média v\"] - df_ATP[\"Blank\"]"
   ]
  },
  {
   "cell_type": "code",
   "execution_count": null,
   "id": "388ce689-e737-4645-ac18-c08583635244",
   "metadata": {},
   "outputs": [],
   "source": [
    "def v_2(ATP, V_max_2, K_prime, h):\n",
    "    return V_max_2*(ATP**h)/(K_prime + ATP**h)"
   ]
  },
  {
   "cell_type": "code",
   "execution_count": null,
   "id": "e7cf40f4-1d2f-4bb5-b8a6-1c465ce0055f",
   "metadata": {},
   "outputs": [],
   "source": [
    "modelo_ATP = Model(v_2)\n",
    "\n",
    "print(f'Variável independente: {modelo_ATP.independent_vars}')\n",
    "print(f'Parâmetros do modelo: {modelo_ATP.param_names}')"
   ]
  },
  {
   "cell_type": "code",
   "execution_count": null,
   "id": "470189ce-5dd6-4d34-8bbb-748629708b93",
   "metadata": {},
   "outputs": [],
   "source": [
    "params = modelo_ATP.make_params(V_max_2=5000, K_prime = 1, h = 1.1)"
   ]
  },
  {
   "cell_type": "code",
   "execution_count": null,
   "id": "f4b5ce05-7034-45bf-aa1a-673acb565647",
   "metadata": {},
   "outputs": [],
   "source": [
    "resultado_fit = modelo_ATP.fit(df_ATP[\"Média v\"], params, ATP=df_ATP[\"[ATP] (mM)\"])\n",
    "print(resultado_fit.fit_report())"
   ]
  },
  {
   "cell_type": "code",
   "execution_count": null,
   "id": "4f311d2c-2974-4db1-a9e8-0a9c252967ba",
   "metadata": {},
   "outputs": [],
   "source": [
    "plt.plot(df_ATP[\"[ATP] (mM)\"], df_ATP[\"Média v\"], 'o')\n",
    "plt.plot(df_ATP[\"[ATP] (mM)\"], resultado_fit.init_fit, '--', label='Palpite inicial')\n",
    "plt.plot(df_ATP[\"[ATP] (mM)\"], resultado_fit.best_fit, '-', label='Melhor ajuste encontrado')\n",
    "plt.legend()\n",
    "#plt.ylim(0, 1000)\n",
    "#plt.yscale('log')\n",
    "plt.show()"
   ]
  },
  {
   "cell_type": "code",
   "execution_count": null,
   "id": "26056a96-9e8d-4c5b-9dd7-7b34c11880ab",
   "metadata": {},
   "outputs": [],
   "source": [
    "resultado_fit.plot()\n",
    "plt.savefig('Modelo da reação enzimática.png', dpi=100, format='png', facecolor='white')\n",
    "plt.show()"
   ]
  },
  {
   "cell_type": "code",
   "execution_count": null,
   "id": "07d7f3e8-9b18-4141-8c02-213871714124",
   "metadata": {},
   "outputs": [],
   "source": [
    "V_max = 4911.27\n",
    "K = 0.046\n",
    "h = 3.18\n",
    "\n",
    "def v(ATP):\n",
    "    return V_max*(ATP**h)/(K + (ATP**h))\n",
    "\n",
    "ATP = np.linspace(0, 2, 500)\n",
    "\n",
    "fig1 = plt.figure()\n",
    "ax1 = fig1.add_subplot(111)\n",
    "plt.plot(ATP, v(ATP), color='black')\n",
    "df_ATP.plot('[ATP] (mM)',\"Média v\",legend=True, ax=ax1, kind = 'scatter', linewidth = 2.5, color = 'blue')\n",
    "plt.xlabel('[ATP] (mM)')\n",
    "plt.ylabel('v')\n",
    "plt.savefig('ATP_lmfit.png', dpi=100, format='png', facecolor='white')\n",
    "plt.show()"
   ]
  }
 ],
 "metadata": {
  "kernelspec": {
   "display_name": "ilumpy",
   "language": "python",
   "name": "ilumpy"
  },
  "language_info": {
   "codemirror_mode": {
    "name": "ipython",
    "version": 3
   },
   "file_extension": ".py",
   "mimetype": "text/x-python",
   "name": "python",
   "nbconvert_exporter": "python",
   "pygments_lexer": "ipython3",
   "version": "3.9.7"
  }
 },
 "nbformat": 4,
 "nbformat_minor": 5
}
